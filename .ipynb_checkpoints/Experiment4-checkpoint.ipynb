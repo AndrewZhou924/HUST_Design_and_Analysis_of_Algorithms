{
 "cells": [
  {
   "cell_type": "code",
   "execution_count": 1,
   "metadata": {},
   "outputs": [],
   "source": [
    "import numpy as np\n",
    "import sys\n",
    "\n",
    "maxNum = sys.maxsize"
   ]
  },
  {
   "cell_type": "code",
   "execution_count": 2,
   "metadata": {},
   "outputs": [],
   "source": [
    "def findroad(distant, begin, end, path, map):\n",
    "    if distant == 0 and begin == end:\n",
    "        return True, np.delete(path, path.shape[0] - 1)\n",
    "    if begin == end:\n",
    "        return False, path\n",
    "    for i in range(5):\n",
    "        if i == begin or map[begin, i] == maxNum or i in path:\n",
    "            continue\n",
    "        else:\n",
    "            flag, p = findroad(distant - map[begin, i], i, end, np.append(path, i), map)\n",
    "            if flag:\n",
    "                return flag, p\n",
    "    return False, path\n",
    "\n",
    "\n",
    "def spfa(map=None, begin=0):\n",
    "    distant = np.array([maxNum, maxNum, maxNum, maxNum, maxNum])\n",
    "    distant[begin] = 0\n",
    "    line = np.array([0, 0, 0, 0, 0])\n",
    "    line[0] = begin\n",
    "    len_line = 1\n",
    "    flag = np.zeros(shape=(5,))\n",
    "    flag[begin] = 1\n",
    "    while len_line != 0:\n",
    "        n = line[len_line - 1]\n",
    "        flag[n] = 0\n",
    "        len_line -= 1\n",
    "        for i in range(5):\n",
    "            if i == n:\n",
    "                continue\n",
    "            elif map[n, i] != maxNum and map[n, i] + distant[n] < distant[i]:\n",
    "                distant[i] = map[n ,i] + distant[n]\n",
    "                if flag[i] == 0:\n",
    "                    line[len_line] = i\n",
    "                    len_line += 1\n",
    "                    flag[i] = 1\n",
    "    return distant\n",
    "\n",
    "\n",
    "def floyd(map):\n",
    "    for k in range(5):\n",
    "        for i in range(5):\n",
    "            for j in range(5):\n",
    "                if map[i, k] == maxNum or map[k, j] == maxNum:\n",
    "                    continue\n",
    "                if map[i, j] > map[i, k] + map[k, j]:\n",
    "                    map[i, j] = map[i, k] + map[k, j]\n",
    "    return map\n"
   ]
  },
  {
   "cell_type": "code",
   "execution_count": 3,
   "metadata": {},
   "outputs": [],
   "source": [
    "class SPFA():\n",
    "    def __init__(self, n):\n",
    "        self.map = np.array([[0, 6, maxNum, 7, maxNum],\n",
    "                             [maxNum, 0, 5, 8, -4],\n",
    "                             [maxNum, -2, 0, maxNum, maxNum],\n",
    "                             [maxNum, maxNum, -3, 0, 9],\n",
    "                             [2, maxNum, 7, maxNum, 0]])\n",
    "        self.dicts = {0:\"s\", 1:\"t\", 2:\"x\", 3:\"y\", 4:\"z\"}\n",
    "        for i in range(n):\n",
    "            self.distant = spfa(self.map, i)\n",
    "            print(self.distant)\n",
    "            print(self.dicts.get(i) + \"点为起点的最短路路径：\")\n",
    "            for j in range(5):\n",
    "                if j == i:\n",
    "                    continue\n",
    "                _, path = findroad(self.distant[j], i, j, np.array([]), self.map)\n",
    "                str = self.dicts.get(i) + \" -> \"\n",
    "                for k in path:\n",
    "                    str += self.dicts.get(k) + \" -> \"\n",
    "                str += self.dicts.get(j)\n",
    "                print(str)\n",
    "        print(\"\\n\")\n"
   ]
  },
  {
   "cell_type": "code",
   "execution_count": 7,
   "metadata": {},
   "outputs": [],
   "source": [
    "class Floyd():\n",
    "    def __init__(self):\n",
    "        self.map = np.array([[0, 3, 8, maxNum, -4],\n",
    "                             [maxNum, 0, maxNum, 100, 7],\n",
    "                             [maxNum, 4, 0, maxNum, maxNum],\n",
    "                             [2, maxNum, -5, 0, maxNum],\n",
    "                             [maxNum, maxNum, maxNum, 6, 0]])\n",
    "        for i in range(5):\n",
    "            self.distant = spfa(self.map, i)\n",
    "            print(self.distant)\n",
    "            print(str(i+1) + \"点为起点的最短路路径：\")\n",
    "            for j in range(5):\n",
    "                if j == i:\n",
    "                    continue\n",
    "                if self.distant[j] == maxNum:\n",
    "                    print(\"没有从%d到%d这条路\"%(i+1, j+1))\n",
    "                _, path = findroad(self.distant[j], i, j, np.array([]), self.map)\n",
    "                string = str(i+1) + \" -> \"\n",
    "                for k in path:\n",
    "                    string += str(int(k+1)) + \" -> \"\n",
    "                string += str(j+1)\n",
    "                print(string)\n",
    "            print(\"\")"
   ]
  },
  {
   "cell_type": "code",
   "execution_count": 8,
   "metadata": {},
   "outputs": [
    {
     "name": "stdout",
     "output_type": "stream",
     "text": [
      "[ 0  2  4  7 -2]\n",
      "s点为起点的最短路路径：\n",
      "s -> y -> x -> t\n",
      "s -> y -> x\n",
      "s -> y\n",
      "s -> y -> x -> t -> z\n",
      "\n",
      "\n"
     ]
    }
   ],
   "source": [
    "'''\n",
    "实现单源最短路径算法\n",
    "G = (V, E) , find a shortest path from a given source vertex s to each\n",
    "vertex v  V (从给定的源顶点s到图中其他顶点v  V的最短路径)\n",
    "'''\n",
    "\n",
    "OnePoint = SPFA(1)"
   ]
  },
  {
   "cell_type": "code",
   "execution_count": 9,
   "metadata": {},
   "outputs": [
    {
     "name": "stdout",
     "output_type": "stream",
     "text": [
      "[ 0  1 -3  2 -4]\n",
      "1点为起点的最短路路径：\n",
      "1 -> 5 -> 4 -> 3 -> 2\n",
      "1 -> 5 -> 4 -> 3\n",
      "1 -> 5 -> 4\n",
      "1 -> 5\n",
      "\n",
      "[15  0  8 13  7]\n",
      "2点为起点的最短路路径：\n",
      "2 -> 5 -> 4 -> 1\n",
      "2 -> 5 -> 4 -> 3\n",
      "2 -> 5 -> 4\n",
      "2 -> 5\n",
      "\n",
      "[19  4  0 17 11]\n",
      "3点为起点的最短路路径：\n",
      "3 -> 2 -> 5 -> 4 -> 1\n",
      "3 -> 2\n",
      "3 -> 2 -> 5 -> 4\n",
      "3 -> 2 -> 5\n",
      "\n",
      "[ 2 -1 -5  0 -2]\n",
      "4点为起点的最短路路径：\n",
      "4 -> 1\n",
      "4 -> 3 -> 2\n",
      "4 -> 3\n",
      "4 -> 1 -> 5\n",
      "\n",
      "[8 5 1 6 0]\n",
      "5点为起点的最短路路径：\n",
      "5 -> 4 -> 1\n",
      "5 -> 4 -> 3 -> 2\n",
      "5 -> 4 -> 3\n",
      "5 -> 4\n",
      "\n"
     ]
    }
   ],
   "source": [
    "'''\n",
    "现全点对最短路径算法\n",
    "Find a shortest path from u to v for every pair of vertices u and v(图中所有点对之间的最短距离)\n",
    "'''\n",
    "\n",
    "AllPoint = Floyd()"
   ]
  }
 ],
 "metadata": {
  "kernelspec": {
   "display_name": "Python 3",
   "language": "python",
   "name": "python3"
  },
  "language_info": {
   "codemirror_mode": {
    "name": "ipython",
    "version": 3
   },
   "file_extension": ".py",
   "mimetype": "text/x-python",
   "name": "python",
   "nbconvert_exporter": "python",
   "pygments_lexer": "ipython3",
   "version": "3.6.4"
  }
 },
 "nbformat": 4,
 "nbformat_minor": 2
}
